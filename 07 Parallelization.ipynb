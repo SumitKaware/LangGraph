{
 "cells": [
  {
   "cell_type": "code",
   "execution_count": 1,
   "id": "99ff1181",
   "metadata": {},
   "outputs": [],
   "source": [
    "import os, getpass\n",
    "\n",
    "def _set_env(var: str):\n",
    "    if not os.environ.get(var):\n",
    "        os.environ[var] = getpass.getpass(f\"{var}: \")\n",
    "\n",
    "_set_env(\"GOOGLE_API_KEY\")\n",
    "_set_env(\"HF_TOKEN\")"
   ]
  },
  {
   "cell_type": "code",
   "execution_count": 2,
   "id": "eb37fad6",
   "metadata": {},
   "outputs": [],
   "source": [
    "from langchain.chat_models import init_chat_model\n",
    "\n",
    "llm = init_chat_model(\"gemini-2.0-flash\", model_provider=\"google_genai\")"
   ]
  },
  {
   "cell_type": "code",
   "execution_count": 3,
   "id": "5580d07f",
   "metadata": {},
   "outputs": [],
   "source": [
    "#%pip install -qU duckduckgo-search langchain-community\n",
    "#%pip install -qU langchain_community wikipedia"
   ]
  },
  {
   "cell_type": "code",
   "execution_count": 4,
   "id": "089a7dbe",
   "metadata": {},
   "outputs": [],
   "source": [
    "import operator\n",
    "from typing import Annotated, Any\n",
    "from typing_extensions import TypedDict\n",
    "\n",
    "from langgraph.graph import StateGraph, START, END\n",
    "class State(TypedDict):\n",
    "    question: str\n",
    "    answer: str\n",
    "    context: Annotated[list, operator.add]"
   ]
  },
  {
   "cell_type": "code",
   "execution_count": 5,
   "id": "dadca0ac",
   "metadata": {},
   "outputs": [
    {
     "name": "stderr",
     "output_type": "stream",
     "text": [
      "c:\\Users\\sumit\\VSCodeProjects\\LangGraph\\venv\\Lib\\site-packages\\langchain_community\\utilities\\duckduckgo_search.py:63: RuntimeWarning: This package (`duckduckgo_search`) has been renamed to `ddgs`! Use `pip install ddgs` instead.\n",
      "  with DDGS() as ddgs:\n"
     ]
    },
    {
     "data": {
      "text/plain": [
       "'1 day ago · Barack Obama, the 44th President of the United States, broke barriers as the first African-American president and implemented significant healthcare reforms during his tenure. 2 days ago · For example, George Washington served two consecutive terms and is counted as the first president, instead of the first and second, but Grover Cleveland and Donald Trump are … Jun 17, 2025 · Barack Obama, the 44th President of the United States, was born in Hawaii and became the first president born outside the continental U.S. He achieved numerous milestones in … 3 days ago · The name \"Obama\" is of African origin, specifically from the Luo ethnic group in Kenya. It is derived from the Luo word \"Obama,\" which means \"to lean or bend.\" One of the most famous … Nov 4, 2024 · Obama was born in Honolulu, Hawaii. After graduating from Columbia University in 1983, he worked as a community organizer in Chicago. In 1988, he enrolled in Harvard Law …'"
      ]
     },
     "execution_count": 5,
     "metadata": {},
     "output_type": "execute_result"
    }
   ],
   "source": [
    "from langchain_community.tools import DuckDuckGoSearchRun\n",
    "\n",
    "search = DuckDuckGoSearchRun()\n",
    "\n",
    "search.invoke(\"Obama's first name?\")"
   ]
  },
  {
   "cell_type": "code",
   "execution_count": 6,
   "id": "7876bd22",
   "metadata": {},
   "outputs": [],
   "source": [
    "from langchain_core.documents import Document\n",
    "from langchain_core.messages import HumanMessage, SystemMessage\n",
    "from langchain_community.document_loaders import WikipediaLoader\n",
    "from IPython.display import Image, display"
   ]
  },
  {
   "cell_type": "code",
   "execution_count": 13,
   "id": "843459a2",
   "metadata": {},
   "outputs": [
    {
     "data": {
      "image/png": "[encoded data removed]",
      "text/plain": [
       "<IPython.core.display.Image object>"
      ]
     },
     "metadata": {},
     "output_type": "display_data"
    }
   ],
   "source": [
    "def search_web(state):\n",
    "    \"\"\"Retrive docs from web search\"\"\"\n",
    "\n",
    "    duck_search = DuckDuckGoSearchRun()\n",
    "\n",
    "    # 2. Invoke the search tool\n",
    "    search_docs = duck_search.invoke(state['question'])\n",
    "\n",
    "    # 3. Now, search_docs will be a list of dictionaries, and your list comprehension will work\n",
    "    # formatted_search_docs = \"\\n\\n---\\n\\n\".join(\n",
    "    #     [\n",
    "    #         f'Document href=\"{doc[\"link\"]}\"/>\\n{doc[\"snippet\"]}\\n</Document>'\n",
    "    #         for doc in search_docs\n",
    "    #     ]\n",
    "    # )\n",
    "\n",
    "    # 4. Return the formatted context\n",
    "    return {\"context\": [search_docs]}\n",
    "\n",
    "def search_wikipedia(state):\n",
    "    \"\"\"Retrieve docs from wikipedia\"\"\"\n",
    "\n",
    "    search_docs = WikipediaLoader(query=state['question'],\n",
    "                                  load_max_docs=2).load()\n",
    "    \n",
    "    # formatted_search_docs = \"\\n\\n---\\n\\n\".join(\n",
    "    #     [\n",
    "    #         f'Document source=\"{doc.metadata[\"source\"]}\" page=\"{doc.metadata.get(\"page\",\"\")}\"/>\\n{doc.page_content}\\n</Document>'\n",
    "    #         for doc in search_docs\n",
    "    #     ]\n",
    "    # )\n",
    "\n",
    "    return {\"context\":[search_docs]}\n",
    "\n",
    "def generate_answer(state):\n",
    "    \"\"\"Node to answer a question\"\"\"\n",
    "\n",
    "    context = state[\"context\"]\n",
    "    question = state[\"question\"]\n",
    "\n",
    "    answer_template = \"\"\"Answer the question {question} using this context: {context}\"\"\"\n",
    "    answer_instructions = answer_template.format(question=question, context=context)\n",
    "\n",
    "    answer = llm.invoke([SystemMessage(content=answer_instructions)] + [HumanMessage(content=f\"Answer the question\")])\n",
    "\n",
    "    return {\"answer\": answer}\n",
    "\n",
    "builder = StateGraph(State)\n",
    "\n",
    "builder.add_node(\"search_web\", search_web)\n",
    "builder.add_node(\"search_wikipedia\", search_wikipedia)\n",
    "builder.add_node(\"generate_answer\", generate_answer)\n",
    "\n",
    "builder.add_edge(START, \"search_web\")\n",
    "builder.add_edge(START, \"search_wikipedia\")\n",
    "builder.add_edge(\"search_web\", \"generate_answer\")\n",
    "builder.add_edge(\"search_wikipedia\", \"generate_answer\")\n",
    "builder.add_edge(\"generate_answer\", END)\n",
    "\n",
    "graph = builder.compile()\n",
    "\n",
    "display(Image(graph.get_graph().draw_mermaid_png()))"
   ]
  },
  {
   "cell_type": "code",
   "execution_count": 18,
   "id": "a061e893",
   "metadata": {},
   "outputs": [
    {
     "name": "stderr",
     "output_type": "stream",
     "text": [
      "c:\\Users\\sumit\\VSCodeProjects\\LangGraph\\venv\\Lib\\site-packages\\langchain_community\\utilities\\duckduckgo_search.py:63: RuntimeWarning: This package (`duckduckgo_search`) has been renamed to `ddgs`! Use `pip install ddgs` instead.\n",
      "  with DDGS() as ddgs:\n"
     ]
    },
    {
     "data": {
      "text/plain": [
       "{'question': 'What are expections for Nvidia Q2 2025 earnings?',\n",
       " 'answer': AIMessage(content=\"Here's what the provided information suggests about expectations for Nvidia's Q2 2025 earnings:\\n\\n*   **Revenue:** Expected to be $32.5 billion, plus or minus 2%.\\n*   **Gross Margins:** GAAP gross margins are expected to be 74.4%, and non-GAAP gross margins are expected to be 75.0%, plus or minus 50 basis points.\\n*   **Key Figure to Watch:** Data center revenue will be a key figure to watch.\", additional_kwargs={}, response_metadata={'prompt_feedback': {'block_reason': 0, 'safety_ratings': []}, 'finish_reason': 'STOP', 'model_name': 'gemini-2.0-flash', 'safety_ratings': []}, id='run--16e0591e-755a-4db3-9fc2-2fa6e9b6bb3f-0', usage_metadata={'input_tokens': 3224, 'output_tokens': 114, 'total_tokens': 3338, 'input_token_details': {'cache_read': 0}}),\n",
       " 'context': ['Aug 28, 2024 · Revenue is expected to be $32.5 billion, plus or minus 2%. GAAP and non-GAAP gross margins are expected to be 74.4% and 75.0%, respectively, plus or minus 50 basis …NVIDIA GeForce RTX™ powers the world’s fastest GPUs and the ultimate platform …Earnings Release 2026. NVIDIA Announces Financial Results for First …We intend to use our @NVIDIA Twitter account, NVIDIA Facebook page, …We intend to use our @NVIDIA Twitter account, NVIDIA Facebook page, … On May 28, 2025, NVIDIA (NASDAQ: NVDA) reported its highly anticipated Q2 2025 results and once again, it delivered beyond expectations. EPS came in at $0.96 (vs. est. $0.93), and … Aug 28, 2024 · Here is what investors are expecting for Nvidia Q2 2025 results, according to Yahoo Finance: The data center revenue will be the key figure to watch. Nvidia’s data centers … Aug 29, 2024 · Nvidia is “the most important stock on planet Earth,” the Goldman Sachs trading desk once said. Nvidia is expected to hit $28.7 billion in revenue for the second quarter of … May 22, 2025 · Next week, Nvidia will report fiscal Q1 earnings, and the market has become accustomed to the company reporting a string of homeruns and grand slams. While Q1 results …',\n",
       "  [Document(metadata={'title': 'Nvidia', 'summary': \"Nvidia Corporation ( en-VID-ee-ə) is an American multinational corporation and technology company headquartered in Santa Clara, California, and incorporated in Delaware. Founded in 1993 by Jensen Huang (president and CEO), Chris Malachowsky, and Curtis Priem, it designs and supplies graphics processing units (GPUs), application programming interfaces (APIs) for data science and high-performance computing, and system on a chip units (SoCs) for mobile computing and the automotive market. The company is also a leading supplier of artificial intelligence (AI) hardware and software. Nvidia outsources the manufacturing of the hardware it designs.\\nNvidia's professional line of GPUs are used for edge-to-cloud computing and in supercomputers and workstations for applications in fields such as architecture, engineering and construction, media and entertainment, automotive, scientific research, and manufacturing design. Its GeForce line of GPUs is aimed at the consumer market and is used in applications such as video editing, 3D rendering, and PC gaming. With a market share of 80.2% in the second quarter of 2023, Nvidia leads global sales of discrete desktop GPUs by a wide margin. The company expanded its presence in the gaming industry with the introduction of the Shield Portable (a handheld game console), Shield Tablet (a gaming tablet), and Shield TV (a digital media player), as well as its cloud gaming service GeForce Now.\\nIn addition to GPU design and outsourcing manufacturing, Nvidia provides the CUDA software platform and API that allows the creation of massively parallel programs which utilize GPUs. They are deployed in supercomputing sites around the world. In the late 2000s, Nvidia had moved into the mobile computing market, where it produced Tegra mobile processors for smartphones and tablets, and vehicle navigation and entertainment systems. The company also makes AI-powered software for audio and video processing (e.g., Nvidia Maxine). Its competitors include AMD, Intel, and Qualcomm, as well as AI accelerator companies such as Cerebras and Graphcore.\\nIn 2023, Nvidia became the seventh public U.S. company to be valued at over $1 trillion, and the company's valuation has increased rapidly since then amid growing demand for data center chips with AI capabilities in the midst of the AI boom. In June 2024, for one day, Nvidia overtook Microsoft as the world's most valuable publicly traded company, with a market capitalization of over $3.3 trillion.\", 'source': 'https://en.wikipedia.org/wiki/Nvidia'}, page_content='Nvidia Corporation ( en-VID-ee-ə) is an American multinational corporation and technology company headquartered in Santa Clara, California, and incorporated in Delaware. Founded in 1993 by Jensen Huang (president and CEO), Chris Malachowsky, and Curtis Priem, it designs and supplies graphics processing units (GPUs), application programming interfaces (APIs) for data science and high-performance computing, and system on a chip units (SoCs) for mobile computing and the automotive market. The company is also a leading supplier of artificial intelligence (AI) hardware and software. Nvidia outsources the manufacturing of the hardware it designs.\\nNvidia\\'s professional line of GPUs are used for edge-to-cloud computing and in supercomputers and workstations for applications in fields such as architecture, engineering and construction, media and entertainment, automotive, scientific research, and manufacturing design. Its GeForce line of GPUs is aimed at the consumer market and is used in applications such as video editing, 3D rendering, and PC gaming. With a market share of 80.2% in the second quarter of 2023, Nvidia leads global sales of discrete desktop GPUs by a wide margin. The company expanded its presence in the gaming industry with the introduction of the Shield Portable (a handheld game console), Shield Tablet (a gaming tablet), and Shield TV (a digital media player), as well as its cloud gaming service GeForce Now.\\nIn addition to GPU design and outsourcing manufacturing, Nvidia provides the CUDA software platform and API that allows the creation of massively parallel programs which utilize GPUs. They are deployed in supercomputing sites around the world. In the late 2000s, Nvidia had moved into the mobile computing market, where it produced Tegra mobile processors for smartphones and tablets, and vehicle navigation and entertainment systems. The company also makes AI-powered software for audio and video processing (e.g., Nvidia Maxine). Its competitors include AMD, Intel, and Qualcomm, as well as AI accelerator companies such as Cerebras and Graphcore.\\nIn 2023, Nvidia became the seventh public U.S. company to be valued at over $1 trillion, and the company\\'s valuation has increased rapidly since then amid growing demand for data center chips with AI capabilities in the midst of the AI boom. In June 2024, for one day, Nvidia overtook Microsoft as the world\\'s most valuable publicly traded company, with a market capitalization of over $3.3 trillion.\\n\\n\\n== History ==\\n\\n\\n=== Founding ===\\n\\nNvidia was founded on April 5, 1993, by Jensen Huang (who remains CEO), a Taiwanese-American electrical engineer who was previously the director of CoreWare at LSI Logic and a microprocessor designer at AMD; Chris Malachowsky, an engineer who worked at Sun Microsystems; and Curtis Priem, who was previously a senior staff engineer and graphics chip designer at IBM and Sun Microsystems. In late 1992, the three men agreed to start the company in a meeting at a Denny\\'s roadside diner on Berryessa Road in East San Jose.\\nAt the time, Malachowsky and Priem were frustrated with Sun\\'s management and were looking to leave, but Huang was on \"firmer ground\", in that he was already running his own division at LSI. The three co-founders discussed a vision of the future which was so compelling that Huang decided to leave LSI and become the chief executive officer of their new start-up.\\nThe three co-founders envisioned  graphics-based processing as the best trajectory for tackling challenges that had eluded general-purpose computing methods. As Huang later explained: \"We also observed that video games were simultaneously one of the most computationally challenging problems and would have incredibly high sales volume. Those two conditions don\\'t happen very often. Video games was our killer app — a flywheel to reach large markets funding huge R&D to solve massive computational problems.\"\\nThe first problem was who would quit first. Huang\\'s wife, Lori, did not want him'),\n",
       "   Document(metadata={'title': 'Nintendo Switch', 'summary': \"The Nintendo Switch is a  video game console developed by Nintendo and released worldwide in most regions on March 3, 2017. Released in the middle of the eighth generation of home consoles, the Switch succeeded the Wii U and competed with Sony's PlayStation 4 and Microsoft's Xbox One; it also competes with the ninth generation consoles, the PlayStation 5 and Xbox Series X/S.\\nThe Switch is a tablet that can either be docked for home console use or used as a portable device, making it a hybrid console. Its wireless Joy-Con controllers function as two halves of a standard controller and alternatively as individual controllers, featuring buttons, directional analog sticks for user input, motion sensing, and tactile feedback. A pair can attach to the sides of the console for handheld-style play, attach to a grip accessory to provide the form of a separated gamepad, or be used unattached. The Switch's system software supports online gaming through internet connectivity, as well as local wireless ad hoc connectivity with other consoles. Switch games and software are available on both physical flash-based ROM cartridges and digital distribution via Nintendo eShop; the system has no region lockout. Two hardware revisions were released: the handheld-only Switch Lite, released on September 20, 2019; and a higher-end version featuring an OLED screen, released on October 8, 2021.\\nThe Switch was unveiled on October 20, 2016; the concept came about as Nintendo's reaction to financial losses attributed to poor sales of the Wii U and market competition from mobile games. Nintendo's then-president Satoru Iwata pushed the company towards mobile gaming and novel hardware. The Switch's design was aimed at a wide demographic of players through multiple modes of use. Nintendo preemptively sought the support of many third-party developers and publishers, as well as independent studios, to help build the Switch's game library alongside its first-party games, while standard electronic components, such as a chipset based on Nvidia's Tegra line, were chosen to make development for the console easier for programmers and more compatible with existing game engines. \\nCritical reception of the Switch was positive. The system received praise for its intuitive design and software library, with criticism directed toward hardware and controller issues. The Switch became a major commercial success, and has shipped over 150 million units worldwide as of December 2024, becoming the third-best selling console of all time behind the PlayStation 2 and Nintendo DS. It is also Nintendo's most successful home console to date, surpassing the Wii's 101.6 million units.\\nA direct successor, the Nintendo Switch 2, which is backward compatible with most Switch games, was released on June 5, 2025.\", 'source': 'https://en.wikipedia.org/wiki/Nintendo_Switch'}, page_content='The Nintendo Switch is a  video game console developed by Nintendo and released worldwide in most regions on March 3, 2017. Released in the middle of the eighth generation of home consoles, the Switch succeeded the Wii U and competed with Sony\\'s PlayStation 4 and Microsoft\\'s Xbox One; it also competes with the ninth generation consoles, the PlayStation 5 and Xbox Series X/S.\\nThe Switch is a tablet that can either be docked for home console use or used as a portable device, making it a hybrid console. Its wireless Joy-Con controllers function as two halves of a standard controller and alternatively as individual controllers, featuring buttons, directional analog sticks for user input, motion sensing, and tactile feedback. A pair can attach to the sides of the console for handheld-style play, attach to a grip accessory to provide the form of a separated gamepad, or be used unattached. The Switch\\'s system software supports online gaming through internet connectivity, as well as local wireless ad hoc connectivity with other consoles. Switch games and software are available on both physical flash-based ROM cartridges and digital distribution via Nintendo eShop; the system has no region lockout. Two hardware revisions were released: the handheld-only Switch Lite, released on September 20, 2019; and a higher-end version featuring an OLED screen, released on October 8, 2021.\\nThe Switch was unveiled on October 20, 2016; the concept came about as Nintendo\\'s reaction to financial losses attributed to poor sales of the Wii U and market competition from mobile games. Nintendo\\'s then-president Satoru Iwata pushed the company towards mobile gaming and novel hardware. The Switch\\'s design was aimed at a wide demographic of players through multiple modes of use. Nintendo preemptively sought the support of many third-party developers and publishers, as well as independent studios, to help build the Switch\\'s game library alongside its first-party games, while standard electronic components, such as a chipset based on Nvidia\\'s Tegra line, were chosen to make development for the console easier for programmers and more compatible with existing game engines. \\nCritical reception of the Switch was positive. The system received praise for its intuitive design and software library, with criticism directed toward hardware and controller issues. The Switch became a major commercial success, and has shipped over 150 million units worldwide as of December 2024, becoming the third-best selling console of all time behind the PlayStation 2 and Nintendo DS. It is also Nintendo\\'s most successful home console to date, surpassing the Wii\\'s 101.6 million units.\\nA direct successor, the Nintendo Switch 2, which is backward compatible with most Switch games, was released on June 5, 2025.\\n\\n\\n== History ==\\n\\n\\n=== Background ===\\nWhile Nintendo enjoyed record revenues, net sales, and profits in 2009 as a result of the recent releases of the Nintendo DS and Wii (in 2004 and 2006 respectively), its revenues soon declined. The company posted its first loss as a video game company in 2012 prior to the Wii U\\'s introduction that year; Nintendo had similar losses in the following years, due to the console\\'s poor reception. The New York Times attributed Nintendo lowering financial forecasts in 2014 to weak hardware sales against mobile gaming. Previously, the company was hesitant about this market, with then-president Satoru Iwata considering that to take part would cause it to \"cease to be Nintendo\" and lose its identity. About three years prior to the Switch\\'s announcement, Iwata, Tatsumi Kimishima, Genyo Takeda, and Shigeru Miyamoto crafted a strategy for revitalizing Nintendo\\'s business model, which included approaching the mobile market, creating new hardware, and \"maximizing [its] intellectual property\". Iwata was able to secure a business alliance with Japanese mobile provider DeNA before his death. The deal developed mobile games based on Nintendo\\'s first-party franchises, b')]]}"
      ]
     },
     "execution_count": 18,
     "metadata": {},
     "output_type": "execute_result"
    }
   ],
   "source": [
    "result = graph.invoke({\"question\":\"What are expections for Nvidia Q2 2025 earnings?\"})\n",
    "result"
   ]
  },
  {
   "cell_type": "code",
   "execution_count": null,
   "id": "d7a6863b",
   "metadata": {},
   "outputs": [],
   "source": []
  }
 ],
 "metadata": {
  "kernelspec": {
   "display_name": "venv",
   "language": "python",
   "name": "python3"
  },
  "language_info": {
   "codemirror_mode": {
    "name": "ipython",
    "version": 3
   },
   "file_extension": ".py",
   "mimetype": "text/x-python",
   "name": "python",
   "nbconvert_exporter": "python",
   "pygments_lexer": "ipython3",
   "version": "3.12.4"
  }
 },
 "nbformat": 4,
 "nbformat_minor": 5
}
