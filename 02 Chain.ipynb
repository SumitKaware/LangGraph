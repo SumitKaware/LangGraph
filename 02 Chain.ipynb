{
 "cells": [
  {
   "cell_type": "code",
   "execution_count": 1,
   "id": "c8ba5aa7",
   "metadata": {},
   "outputs": [
    {
     "name": "stdout",
     "output_type": "stream",
     "text": [
      "==================================\u001b[1m Ai Message \u001b[0m==================================\n",
      "Name: Model\n",
      "\n",
      "So you said you were researching ocean mamals\n",
      "================================\u001b[1m Human Message \u001b[0m=================================\n",
      "Name: Lance\n",
      "\n",
      "Yes, that's right.\n",
      "==================================\u001b[1m Ai Message \u001b[0m==================================\n",
      "Name: Model\n",
      "\n",
      "Great, what would you like to learn about.\n",
      "================================\u001b[1m Human Message \u001b[0m=================================\n",
      "Name: Lance\n",
      "\n",
      "I want to learn about the best place to see Orcas in the US.\n"
     ]
    }
   ],
   "source": [
    "from pprint import pprint\n",
    "from langchain_core.messages import AIMessage, HumanMessage, SystemMessage\n",
    "\n",
    "messages = [AIMessage(content=f\"So you said you were researching ocean mamals\", name=\"Model\")]\n",
    "messages.extend([HumanMessage(content=f\"Yes, that's right.\", name=\"Lance\")])\n",
    "messages.extend([AIMessage(content=f\"Great, what would you like to learn about.\", name=\"Model\")])\n",
    "messages.extend([HumanMessage(content=f\"I want to learn about the best place to see Orcas in the US.\", name=\"Lance\")])\n",
    "\n",
    "for m in messages:\n",
    "    m.pretty_print()\n"
   ]
  },
  {
   "cell_type": "code",
   "execution_count": 2,
   "id": "5f32d39d",
   "metadata": {},
   "outputs": [],
   "source": [
    "import os, getpass\n",
    "\n",
    "def _set_env(var: str):\n",
    "    if not os.environ.get(var):\n",
    "        os.environ[var] = getpass.getpass(f\"{var}: \")\n",
    "\n",
    "_set_env(\"GOOGLE_API_KEY\")\n",
    "_set_env(\"HF_TOKEN\")"
   ]
  },
  {
   "cell_type": "code",
   "execution_count": 3,
   "id": "68c3dbf3",
   "metadata": {},
   "outputs": [],
   "source": [
    "from langchain.chat_models import init_chat_model\n",
    "\n",
    "chat_model = init_chat_model(\"gemini-2.0-flash\", model_provider=\"google_genai\")"
   ]
  },
  {
   "cell_type": "code",
   "execution_count": 4,
   "id": "89fe8ca9",
   "metadata": {},
   "outputs": [],
   "source": [
    "messages = [\n",
    "    SystemMessage(content=\"You're a helpful assistant\"),\n",
    "    HumanMessage(\n",
    "        content=\"What happens when an unstoppable force meets an immovable object?\"\n",
    "    ),\n",
    "]\n",
    "\n",
    "ai_msg = chat_model.invoke(messages)"
   ]
  },
  {
   "cell_type": "code",
   "execution_count": 6,
   "id": "6c3ce9de",
   "metadata": {},
   "outputs": [
    {
     "data": {
      "text/plain": [
       "'The classic riddle of what happens when an unstoppable force meets an immovable object is a paradox, and there\\'s no definitive answer in the real world because both concepts are theoretical impossibilities. Here\\'s a breakdown of why it\\'s a paradox and some of the common ways people try to resolve it:\\n\\n**Why it\\'s a Paradox:**\\n\\n*   **Contradiction:** The very existence of one negates the possibility of the other. If there\\'s truly an unstoppable force, then by definition, there can be no immovable object. Conversely, if there\\'s a truly immovable object, then there can be no unstoppable force.\\n*   **Laws of Physics:** Both concepts break the known laws of physics.\\n    *   **Unstoppable Force:** Implying infinite energy, which violates the law of conservation of energy.\\n    *   **Immovable Object:** Implying infinite density or mass, which also has no basis in reality and would likely create a black hole.\\n\\n**Common Ways to \"Resolve\" the Paradox (Philosophical and Theoretical):**\\n\\nSince a true resolution within the bounds of physics is impossible, people often approach the question from different angles:\\n\\n1.  **One Must Yield:** This is the most common and logical conclusion. Since both cannot exist simultaneously, one must be redefined or proven false.\\n    *   The unstoppable force stops, or is diverted, or is damaged.\\n    *   The immovable object moves, deforms, or is destroyed.\\n\\n2.  **Redefinition of Terms:** The terms \"unstoppable\" and \"immovable\" are not absolute.\\n    *   **Unstoppable:** Perhaps it means something that *hasn\\'t* been stopped yet, but *could* be.\\n    *   **Immovable:** Perhaps it means something incredibly difficult to move, but not *impossible*.\\n\\n3.  **The Force Changes the Object:** The force doesn\\'t necessarily *move* the object, but it fundamentally changes it.\\n    *   The object might be compressed, heated, or otherwise altered without being displaced.\\n\\n4.  **The Universe Breaks:** This is a more dramatic (and less likely) interpretation. The laws of physics themselves might break down at the point of contact, leading to unpredictable and potentially catastrophic results. This is more of a thought experiment exploring the limits of our understanding.\\n\\n5.  **The Question is Meaningless:** Some argue that the question itself is flawed because it\\'s based on impossible premises. It\\'s like asking \"What happens if a square circle exists?\" The question doesn\\'t have a valid answer because the premise is self-contradictory.\\n\\n**In Conclusion:**\\n\\nThe riddle is less about finding a real-world answer and more about exploring the limits of logic, language, and our understanding of the universe. It highlights the importance of precise definitions and the potential for paradoxes when dealing with extreme or impossible scenarios.'"
      ]
     },
     "execution_count": 6,
     "metadata": {},
     "output_type": "execute_result"
    }
   ],
   "source": [
    "ai_msg.content"
   ]
  },
  {
   "cell_type": "code",
   "execution_count": 6,
   "id": "e11c09a6",
   "metadata": {},
   "outputs": [
    {
     "data": {
      "text/plain": [
       "AIMessage(content='This is a classic paradox, and the answer depends on how you approach it:\\n\\n**The Short, Simple Answer: The paradox reveals a flaw in the initial assumptions.**\\n\\n**The Longer, More Detailed Explanations:**\\n\\nHere\\'s why it\\'s a paradox and how to think about it:\\n\\n*   **The Problem with the Definition:** The paradox hinges on the absolute nature of \"unstoppable\" and \"immovable.\" If something is *truly* unstoppable, by definition, it cannot be stopped. Similarly, if something is *truly* immovable, it cannot be moved. The existence of one negates the possibility of the other.\\n\\n*   **Resolutions (Attempting to Resolve the Paradox):**\\n\\n    *   **The Laws of Physics Must Change:** If such a scenario were to occur, the laws of physics as we understand them would have to break down or be redefined at the point of impact. This is because our current understanding of physics doesn\\'t allow for absolutes like truly unstoppable forces or perfectly immovable objects.\\n\\n    *   **Energy Conversion:** One could argue that the energy of the \"unstoppable force\" would be converted into other forms of energy (heat, light, sound, etc.) at the point of impact. The \"immovable object\" would technically remain unmoved in terms of displacement, but the energy transfer would still occur.\\n\\n    *   **Both are Altered:** A more nuanced answer might suggest that *both* the \"unstoppable force\" and the \"immovable object\" are altered by the encounter. The force might be slowed or redirected, and the object might be deformed or experience internal stress. Neither remains absolutely true to its initial definition.\\n\\n    *   **Quantum Mechanics:** Some might invoke quantum mechanics, suggesting that the interaction would result in a probabilistic outcome. There\\'s a chance the object moves, a chance it doesn\\'t, and a chance the force is deflected, all described by probability waves.\\n\\n*   **It\\'s a Thought Experiment:** Ultimately, the \"unstoppable force meets immovable object\" is a thought experiment designed to highlight the limitations of our conceptual framework when dealing with absolutes. It\\'s more about stimulating philosophical discussion than providing a definitive scientific answer.\\n\\n**In Conclusion:** The paradox is a way of pointing out that the universe likely doesn\\'t allow for absolutes. Something will always give, even if it\\'s in a way we don\\'t fully understand.', additional_kwargs={}, response_metadata={'prompt_feedback': {'block_reason': 0, 'safety_ratings': []}, 'finish_reason': 'STOP', 'safety_ratings': []}, id='run--4a86dcf3-65b6-49e2-9dde-0e69fad6a27f-0', usage_metadata={'input_tokens': 17, 'output_tokens': 503, 'total_tokens': 520, 'input_token_details': {'cache_read': 0}})"
      ]
     },
     "execution_count": 6,
     "metadata": {},
     "output_type": "execute_result"
    }
   ],
   "source": [
    "result = chat_model.invoke(messages)\n",
    "result"
   ]
  },
  {
   "cell_type": "code",
   "execution_count": 7,
   "id": "6df30311",
   "metadata": {},
   "outputs": [
    {
     "data": {
      "text/plain": [
       "{'prompt_feedback': {'block_reason': 0, 'safety_ratings': []},\n",
       " 'finish_reason': 'STOP',\n",
       " 'safety_ratings': []}"
      ]
     },
     "execution_count": 7,
     "metadata": {},
     "output_type": "execute_result"
    }
   ],
   "source": [
    "result.response_metadata"
   ]
  },
  {
   "cell_type": "code",
   "execution_count": 8,
   "id": "cbfc362e",
   "metadata": {},
   "outputs": [],
   "source": [
    "def multiply(a: int, b:int) -> int:\n",
    "    \"\"\"Multiply a and b.\n",
    "    \n",
    "    Args:\n",
    "        a: first int\n",
    "        b: second int\n",
    "    \"\"\"\n",
    "    return a * b\n",
    "\n",
    "llm_with_tools = chat_model.bind_tools([multiply])"
   ]
  },
  {
   "cell_type": "code",
   "execution_count": 9,
   "id": "df0a842c",
   "metadata": {},
   "outputs": [
    {
     "data": {
      "text/plain": [
       "AIMessage(content='', additional_kwargs={'function_call': {'name': 'multiply', 'arguments': '{\"a\": 2.0, \"b\": 3.0}'}}, response_metadata={'prompt_feedback': {'block_reason': 0, 'safety_ratings': []}, 'finish_reason': 'STOP', 'safety_ratings': []}, id='run--ba94ffbb-c167-45e2-bdac-aa7a436bd97d-0', tool_calls=[{'name': 'multiply', 'args': {'a': 2.0, 'b': 3.0}, 'id': 'eab47681-f677-4a80-9654-6e3a2261c6c3', 'type': 'tool_call'}], usage_metadata={'input_tokens': 25, 'output_tokens': 5, 'total_tokens': 30, 'input_token_details': {'cache_read': 0}})"
      ]
     },
     "execution_count": 9,
     "metadata": {},
     "output_type": "execute_result"
    }
   ],
   "source": [
    "humessage = [HumanMessage(content=f\"What is 2 multiplied by 3\", name=\"Lance\")]\n",
    "tool_call = llm_with_tools.invoke(humessage)\n",
    "tool_call"
   ]
  },
  {
   "cell_type": "code",
   "execution_count": 10,
   "id": "99e7375d",
   "metadata": {},
   "outputs": [],
   "source": [
    "from typing import TypedDict\n",
    "from langchain_core.messages import AnyMessage\n",
    "\n",
    "class MessagesState(TypedDict):\n",
    "    messages: list[AnyMessage]"
   ]
  },
  {
   "cell_type": "code",
   "execution_count": 11,
   "id": "4ddbf181",
   "metadata": {},
   "outputs": [],
   "source": [
    "from typing import Annotated\n",
    "from langgraph.graph.message import add_messages\n",
    "\n",
    "class MessagesState(TypedDict):\n",
    "    messages: Annotated[list[AnyMessage], add_messages]"
   ]
  },
  {
   "cell_type": "code",
   "execution_count": 12,
   "id": "b999ecd2",
   "metadata": {},
   "outputs": [],
   "source": [
    "from langgraph.graph import MessagesState\n",
    "\n",
    "class State(MessagesState):\n",
    "    #\n",
    "    pass"
   ]
  },
  {
   "cell_type": "code",
   "execution_count": 13,
   "id": "8c99348e",
   "metadata": {},
   "outputs": [
    {
     "data": {
      "text/plain": [
       "[AIMessage(content='Hello! How can i help you?', additional_kwargs={}, response_metadata={}, name='Model', id='9fef69f1-69ba-4aa4-b64a-4bc0487a72da'),\n",
       " HumanMessage(content=\"I'm looking for information on marine biology\", additional_kwargs={}, response_metadata={}, name='Lance', id='71947c5d-d04a-4846-bdba-fb292a38dd24'),\n",
       " AIMessage(content='Sure,I can help with that, What specifically are you interested in?', additional_kwargs={}, response_metadata={}, name='MOdel', id='f093e770-fc7b-46a1-8e18-461ef09846f1')]"
      ]
     },
     "execution_count": 13,
     "metadata": {},
     "output_type": "execute_result"
    }
   ],
   "source": [
    "initial_message = [AIMessage(content=\"Hello! How can i help you?\", name=\"Model\"),\n",
    "                   HumanMessage(content=\"I'm looking for information on marine biology\", name=\"Lance\")\n",
    "                   ]\n",
    "\n",
    "new_message = AIMessage(content=\"Sure,I can help with that, What specifically are you interested in?\", name=\"MOdel\")\n",
    "\n",
    "add_messages(initial_message, new_message)"
   ]
  },
  {
   "cell_type": "code",
   "execution_count": null,
   "id": "424508cc",
   "metadata": {},
   "outputs": [],
   "source": [
    "from IPython.display import Image, display\n",
    "from langgraph.graph import StateGraph, START, END\n",
    "\n",
    "class MessagesState(MessagesState):\n",
    "    #\n",
    "    pass\n",
    "\n",
    "def tool_calling_llm(state: MessagesState):\n",
    "    return {\"messages\": [llm_with_tools.invoke(state[\"messages\"])]}\n"
   ]
  },
  {
   "cell_type": "code",
   "execution_count": 20,
   "id": "78f14cde",
   "metadata": {},
   "outputs": [
    {
     "data": {
      "image/png": "[encoded data removed]",
      "text/plain": [
       "<IPython.core.display.Image object>"
      ]
     },
     "metadata": {},
     "output_type": "display_data"
    }
   ],
   "source": [
    "builder = StateGraph(MessagesState)\n",
    "builder.add_node(\"tool_calling_llm\",tool_calling_llm)\n",
    "builder.add_edge(START, \"tool_calling_llm\")\n",
    "builder.add_edge(\"tool_calling_llm\",END)\n",
    "graph = builder.compile()\n",
    "\n",
    "display(Image(graph.get_graph().draw_mermaid_png()))"
   ]
  },
  {
   "cell_type": "code",
   "execution_count": 21,
   "id": "28a77a1d",
   "metadata": {},
   "outputs": [
    {
     "data": {
      "text/plain": [
       "{'messages': [HumanMessage(content='Hello!', additional_kwargs={}, response_metadata={}, id='10c3edc4-59cb-495c-b5f3-bdb3ec291a2c'),\n",
       "  AIMessage(content='Hello! How can I help you today?', additional_kwargs={}, response_metadata={'prompt_feedback': {'block_reason': 0, 'safety_ratings': []}, 'finish_reason': 'STOP', 'safety_ratings': []}, id='run--6d8586de-9bcf-45d2-a67c-c949ebe20c38-0', usage_metadata={'input_tokens': 19, 'output_tokens': 10, 'total_tokens': 29, 'input_token_details': {'cache_read': 0}})]}"
      ]
     },
     "execution_count": 21,
     "metadata": {},
     "output_type": "execute_result"
    }
   ],
   "source": [
    "messages = graph.invoke({\"messages\": HumanMessage(content=\"Hello!\")})\n",
    "messages"
   ]
  },
  {
   "cell_type": "code",
   "execution_count": 22,
   "id": "a3af4b92",
   "metadata": {},
   "outputs": [
    {
     "data": {
      "text/plain": [
       "{'messages': [HumanMessage(content='Multiply 2 and 3', additional_kwargs={}, response_metadata={}, id='5e9ae34c-4955-4c65-b3fb-b9f4038d3c0e'),\n",
       "  AIMessage(content='', additional_kwargs={'function_call': {'name': 'multiply', 'arguments': '{\"a\": 2.0, \"b\": 3.0}'}}, response_metadata={'prompt_feedback': {'block_reason': 0, 'safety_ratings': []}, 'finish_reason': 'STOP', 'safety_ratings': []}, id='run--0cf29299-e974-4e1b-a939-bd4047c49a98-0', tool_calls=[{'name': 'multiply', 'args': {'a': 2.0, 'b': 3.0}, 'id': '1ca67fde-3af6-44f3-90f9-1efc1f972692', 'type': 'tool_call'}], usage_metadata={'input_tokens': 23, 'output_tokens': 5, 'total_tokens': 28, 'input_token_details': {'cache_read': 0}})]}"
      ]
     },
     "execution_count": 22,
     "metadata": {},
     "output_type": "execute_result"
    }
   ],
   "source": [
    "messages = graph.invoke({\"messages\": HumanMessage(content=\"Multiply 2 and 3\")})\n",
    "messages"
   ]
  },
  {
   "cell_type": "code",
   "execution_count": null,
   "id": "4c409684",
   "metadata": {},
   "outputs": [],
   "source": []
  }
 ],
 "metadata": {
  "kernelspec": {
   "display_name": "Python 3",
   "language": "python",
   "name": "python3"
  },
  "language_info": {
   "codemirror_mode": {
    "name": "ipython",
    "version": 3
   },
   "file_extension": ".py",
   "mimetype": "text/x-python",
   "name": "python",
   "nbconvert_exporter": "python",
   "pygments_lexer": "ipython3",
   "version": "3.12.4"
  }
 },
 "nbformat": 4,
 "nbformat_minor": 5
}
