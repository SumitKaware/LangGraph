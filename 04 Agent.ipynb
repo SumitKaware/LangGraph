{
 "cells": [
  {
   "cell_type": "code",
   "execution_count": 1,
   "id": "3dbfbd90",
   "metadata": {},
   "outputs": [],
   "source": [
    "import os, getpass\n",
    "\n",
    "def _set_env(var: str):\n",
    "    if not os.environ.get(var):\n",
    "        os.environ[var] = getpass.getpass(f\"{var}: \")\n",
    "\n",
    "_set_env(\"GOOGLE_API_KEY\")\n",
    "_set_env(\"HF_TOKEN\")"
   ]
  },
  {
   "cell_type": "code",
   "execution_count": 2,
   "id": "31dfb2f3",
   "metadata": {},
   "outputs": [],
   "source": [
    "from langchain.chat_models import init_chat_model\n",
    "\n",
    "chat_model = init_chat_model(\"gemini-2.0-flash\", model_provider=\"google_genai\")"
   ]
  },
  {
   "cell_type": "code",
   "execution_count": 3,
   "id": "8f2b25bd",
   "metadata": {},
   "outputs": [],
   "source": [
    "def add(a: int, b:int) -> int:\n",
    "    \"\"\"Multiply a and b.\n",
    "    \n",
    "    Args:\n",
    "        a: first int\n",
    "        b: second int\n",
    "    \"\"\"\n",
    "    return a * b\n",
    "\n",
    "def subtract(a: int, b:int) -> int:\n",
    "    \"\"\"Multiply a and b.\n",
    "    \n",
    "    Args:\n",
    "        a: first int\n",
    "        b: second int\n",
    "    \"\"\"\n",
    "    return a * b\n",
    "\n",
    "def multiply(a: int, b:int) -> int:\n",
    "    \"\"\"Multiply a and b.\n",
    "    \n",
    "    Args:\n",
    "        a: first int\n",
    "        b: second int\n",
    "    \"\"\"\n",
    "    return a * b\n",
    "\n",
    "def divide(a: int, b:int) -> int:\n",
    "    \"\"\"Multiply a and b.\n",
    "    \n",
    "    Args:\n",
    "        a: first int\n",
    "        b: second int\n",
    "    \"\"\"\n",
    "    return a * b\n",
    "\n",
    "tools = [add, subtract, multiply, divide]\n",
    "llm_with_tools = chat_model.bind_tools(tools)"
   ]
  },
  {
   "cell_type": "code",
   "execution_count": 4,
   "id": "11ad83ff",
   "metadata": {},
   "outputs": [],
   "source": [
    "from langgraph.graph import MessagesState\n",
    "from langchain_core.messages import HumanMessage, SystemMessage\n",
    "\n",
    "sys_msg = SystemMessage(content=\"You are a helpful assistance tasked with performing arthemation on give set of inputs. Verify your output at each step.\")\n",
    "\n",
    "def assistance(state: MessagesState):\n",
    "    return {\"messages\": [llm_with_tools.invoke([sys_msg] + state[\"messages\"])]}"
   ]
  },
  {
   "cell_type": "code",
   "execution_count": 5,
   "id": "167b930f",
   "metadata": {},
   "outputs": [
    {
     "data": {
      "image/png": "[encoded data removed]",
      "text/plain": [
       "<IPython.core.display.Image object>"
      ]
     },
     "metadata": {},
     "output_type": "display_data"
    }
   ],
   "source": [
    "from IPython.display import Image, display\n",
    "from langgraph.graph import StateGraph, START, END\n",
    "from langgraph.prebuilt import ToolNode\n",
    "from langgraph.prebuilt import tools_condition\n",
    "\n",
    "builder = StateGraph(MessagesState)\n",
    "builder.add_node(\"assistance\", assistance)\n",
    "builder.add_node(\"tools\", ToolNode(tools))\n",
    "\n",
    "builder.add_edge(START, \"assistance\")\n",
    "builder.add_conditional_edges(\n",
    "    \"assistance\",\n",
    "    # If the latest message (result) from assisatnce is a tool call -> tools_condition routes to tools\n",
    "    # If the latest message (result) from assistance is not a tool call -> tools_condition routes to END\n",
    "    tools_condition,\n",
    ")\n",
    "\n",
    "builder.add_edge(\"tools\", \"assistance\")\n",
    "graph = builder.compile()\n",
    "\n",
    "display(Image(graph.get_graph().draw_mermaid_png()))"
   ]
  },
  {
   "cell_type": "code",
   "execution_count": 7,
   "id": "a4496e4e",
   "metadata": {},
   "outputs": [
    {
     "data": {
      "text/plain": [
       "{'messages': [HumanMessage(content='Add 4 and 4. Multiply the output by 2. Divide the output by 2. Subtract the output by 4.', additional_kwargs={}, response_metadata={}, id='46042ba6-2dde-408b-b9a9-46f58ef57b21'),\n",
       "  AIMessage(content='', additional_kwargs={'function_call': {'name': 'add', 'arguments': '{\"b\": 4.0, \"a\": 4.0}'}}, response_metadata={'prompt_feedback': {'block_reason': 0, 'safety_ratings': []}, 'finish_reason': 'STOP', 'model_name': 'gemini-2.0-flash', 'safety_ratings': []}, id='run--e1443294-4b4f-4066-8981-e22bb3aa3620-0', tool_calls=[{'name': 'add', 'args': {'b': 4.0, 'a': 4.0}, 'id': 'e54051ac-c10b-4656-bf62-38efffc69f41', 'type': 'tool_call'}], usage_metadata={'input_tokens': 120, 'output_tokens': 5, 'total_tokens': 125, 'input_token_details': {'cache_read': 0}}),\n",
       "  ToolMessage(content='16', name='add', id='de2c78fe-db05-42fb-8c24-e4956f77c55b', tool_call_id='e54051ac-c10b-4656-bf62-38efffc69f41'),\n",
       "  AIMessage(content='The sum of 4 and 4 is 8. Multiplying by 2 gives 16.', additional_kwargs={'function_call': {'name': 'multiply', 'arguments': '{\"b\": 2.0, \"a\": 16.0}'}}, response_metadata={'prompt_feedback': {'block_reason': 0, 'safety_ratings': []}, 'finish_reason': 'STOP', 'model_name': 'gemini-2.0-flash', 'safety_ratings': []}, id='run--cffd4612-752b-4ba1-86e8-0801627199ce-0', tool_calls=[{'name': 'multiply', 'args': {'b': 2.0, 'a': 16.0}, 'id': 'cc5aa10d-04ab-4c70-bdb9-78df67446074', 'type': 'tool_call'}], usage_metadata={'input_tokens': 128, 'output_tokens': 28, 'total_tokens': 156, 'input_token_details': {'cache_read': 0}}),\n",
       "  ToolMessage(content='32', name='multiply', id='8d75d740-ba6f-45f7-942e-55d7f144f229', tool_call_id='cc5aa10d-04ab-4c70-bdb9-78df67446074'),\n",
       "  AIMessage(content='', additional_kwargs={'function_call': {'name': 'divide', 'arguments': '{\"b\": 2.0, \"a\": 32.0}'}}, response_metadata={'prompt_feedback': {'block_reason': 0, 'safety_ratings': []}, 'finish_reason': 'STOP', 'model_name': 'gemini-2.0-flash', 'safety_ratings': []}, id='run--27a6e50b-278b-4d0d-9fc4-e84df93d0152-0', tool_calls=[{'name': 'divide', 'args': {'b': 2.0, 'a': 32.0}, 'id': 'a30e5aca-4c12-4559-aece-893593879134', 'type': 'tool_call'}], usage_metadata={'input_tokens': 136, 'output_tokens': 5, 'total_tokens': 141, 'input_token_details': {'cache_read': 0}}),\n",
       "  ToolMessage(content='64', name='divide', id='50b3f4cd-de8e-47f6-9519-3157fd2bb913', tool_call_id='a30e5aca-4c12-4559-aece-893593879134'),\n",
       "  AIMessage(content='', additional_kwargs={'function_call': {'name': 'subtract', 'arguments': '{\"b\": 4.0, \"a\": 64.0}'}}, response_metadata={'prompt_feedback': {'block_reason': 0, 'safety_ratings': []}, 'finish_reason': 'STOP', 'model_name': 'gemini-2.0-flash', 'safety_ratings': []}, id='run--aeeb502a-3127-4f93-bdba-d5d892ed2767-0', tool_calls=[{'name': 'subtract', 'args': {'b': 4.0, 'a': 64.0}, 'id': 'bf9d7b3a-15d8-43fd-8649-8805aa898d5c', 'type': 'tool_call'}], usage_metadata={'input_tokens': 144, 'output_tokens': 5, 'total_tokens': 149, 'input_token_details': {'cache_read': 0}}),\n",
       "  ToolMessage(content='256', name='subtract', id='2c1d1e67-0b54-413c-af34-0abce8c33ae1', tool_call_id='bf9d7b3a-15d8-43fd-8649-8805aa898d5c'),\n",
       "  AIMessage(content='The final answer is 256.', additional_kwargs={}, response_metadata={'prompt_feedback': {'block_reason': 0, 'safety_ratings': []}, 'finish_reason': 'STOP', 'model_name': 'gemini-2.0-flash', 'safety_ratings': []}, id='run--73779578-9e1e-4472-a918-f144b7a4ad21-0', usage_metadata={'input_tokens': 152, 'output_tokens': 9, 'total_tokens': 161, 'input_token_details': {'cache_read': 0}})]}"
      ]
     },
     "execution_count": 7,
     "metadata": {},
     "output_type": "execute_result"
    }
   ],
   "source": [
    "message = [HumanMessage(content=\"Add 4 and 4. Multiply the output by 2. Divide the output by 2. Subtract the output by 4.\")]\n",
    "message = graph.invoke({\"messages\": message})\n",
    "message"
   ]
  },
  {
   "cell_type": "code",
   "execution_count": 16,
   "id": "68ddcd63",
   "metadata": {},
   "outputs": [
    {
     "name": "stdout",
     "output_type": "stream",
     "text": [
      "================================\u001b[1m Human Message \u001b[0m=================================\n",
      "\n",
      "Add 4 and 4. Multiply the output by 2. Divide the output by 2. Subtract the output by 4.\n",
      "==================================\u001b[1m Ai Message \u001b[0m==================================\n",
      "Tool Calls:\n",
      "  add (8730b25e-f84d-401b-a61b-cbc03fa5f234)\n",
      " Call ID: 8730b25e-f84d-401b-a61b-cbc03fa5f234\n",
      "  Args:\n",
      "    b: 4.0\n",
      "    a: 4.0\n",
      "=================================\u001b[1m Tool Message \u001b[0m=================================\n",
      "Name: add\n",
      "\n",
      "16\n",
      "==================================\u001b[1m Ai Message \u001b[0m==================================\n",
      "\n",
      "The sum of 4 and 4 is 8. Next, I will multiply 8 by 2.\n",
      "Tool Calls:\n",
      "  multiply (f82f77ed-921c-41a0-acd6-cfd0004ba091)\n",
      " Call ID: f82f77ed-921c-41a0-acd6-cfd0004ba091\n",
      "  Args:\n",
      "    b: 2.0\n",
      "    a: 8.0\n",
      "=================================\u001b[1m Tool Message \u001b[0m=================================\n",
      "Name: multiply\n",
      "\n",
      "16\n",
      "==================================\u001b[1m Ai Message \u001b[0m==================================\n",
      "Tool Calls:\n",
      "  divide (a5a28a65-ea47-4656-8f05-1e1cf0c98cc0)\n",
      " Call ID: a5a28a65-ea47-4656-8f05-1e1cf0c98cc0\n",
      "  Args:\n",
      "    b: 2.0\n",
      "    a: 16.0\n",
      "=================================\u001b[1m Tool Message \u001b[0m=================================\n",
      "Name: divide\n",
      "\n",
      "32\n",
      "==================================\u001b[1m Ai Message \u001b[0m==================================\n",
      "Tool Calls:\n",
      "  subtract (32c5c922-1cb5-4e9b-b131-678b95214f78)\n",
      " Call ID: 32c5c922-1cb5-4e9b-b131-678b95214f78\n",
      "  Args:\n",
      "    b: 4.0\n",
      "    a: 8.0\n",
      "=================================\u001b[1m Tool Message \u001b[0m=================================\n",
      "Name: subtract\n",
      "\n",
      "32\n",
      "==================================\u001b[1m Ai Message \u001b[0m==================================\n",
      "\n",
      "First, we add 4 and 4, which results in 8. Then, we multiply 8 by 2, which results in 16. Next, we divide 16 by 2, which results in 8. Finally, we subtract 8 by 4, which results in 4.\n"
     ]
    }
   ],
   "source": [
    "for m in message['messages']:\n",
    "    m.pretty_print()"
   ]
  },
  {
   "cell_type": "code",
   "execution_count": null,
   "id": "824fb65e",
   "metadata": {},
   "outputs": [],
   "source": []
  }
 ],
 "metadata": {
  "kernelspec": {
   "display_name": "venv",
   "language": "python",
   "name": "python3"
  },
  "language_info": {
   "codemirror_mode": {
    "name": "ipython",
    "version": 3
   },
   "file_extension": ".py",
   "mimetype": "text/x-python",
   "name": "python",
   "nbconvert_exporter": "python",
   "pygments_lexer": "ipython3",
   "version": "3.12.4"
  }
 },
 "nbformat": 4,
 "nbformat_minor": 5
}
