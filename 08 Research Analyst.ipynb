{
 "cells": [
  {
   "cell_type": "code",
   "execution_count": 8,
   "id": "f817cf6c",
   "metadata": {},
   "outputs": [],
   "source": [
    "import os, getpass\n",
    "\n",
    "def _set_env(var: str):\n",
    "    if not os.environ.get(var):\n",
    "        os.environ[var] = getpass.getpass(f\"{var}: \")\n",
    "\n",
    "_set_env(\"GOOGLE_API_KEY\")\n",
    "_set_env(\"HF_TOKEN\")"
   ]
  },
  {
   "cell_type": "code",
   "execution_count": 9,
   "id": "12468324",
   "metadata": {},
   "outputs": [],
   "source": [
    "from langchain.chat_models import init_chat_model\n",
    "llm = init_chat_model(\"gemini-2.0-flash\", model_provider=\"google_genai\")"
   ]
  },
  {
   "cell_type": "code",
   "execution_count": 10,
   "id": "af1f388d",
   "metadata": {},
   "outputs": [],
   "source": [
    "from typing import List\n",
    "from typing_extensions import TypedDict\n",
    "from pydantic import BaseModel, Field"
   ]
  },
  {
   "cell_type": "code",
   "execution_count": 11,
   "id": "c50c8a96",
   "metadata": {},
   "outputs": [],
   "source": [
    "class Analyst(BaseModel):\n",
    "    affiliation: str = Field(\n",
    "        description=\"Primary affiliation of the analyst.\",\n",
    "    )\n",
    "    name: str = Field(\n",
    "        description=\"Name of the analyst.\"\n",
    "    )\n",
    "    role: str  = Field(\n",
    "        description=\"Role of the analyst.\",\n",
    "    )\n",
    "    description: str = Field(\n",
    "        description=\"Description of the analyst focus, concern, and motives.\",\n",
    "    )\n",
    "\n",
    "    @property\n",
    "    def persona(self) -> str:\n",
    "        return f\"Name: {self.name}\\nRole:{self.role}\\nAffiliation:{self.affiliation}\\nDescription:{self.description}\\n\"\n",
    "    \n",
    "class Perspectives(BaseModel):\n",
    "    analysts: List[Analyst] = Field(\n",
    "        description=\"Comprehensive list of the analyst with their roles and affiliations.\",\n",
    "    )\n",
    "\n",
    "class GenerateAnalystsState(TypedDict):\n",
    "    topic: str #Research topic\n",
    "    max_analysts: int #number of analysts\n",
    "    human_analyst_feedback: str # Human Feedback\n",
    "    analysts: List[Analyst] #analyst asking questions"
   ]
  },
  {
   "cell_type": "code",
   "execution_count": 13,
   "id": "bfbe7f9b",
   "metadata": {},
   "outputs": [
    {
     "data": {
      "image/png": "[encoded data removed]",
      "text/plain": [
       "<IPython.core.display.Image object>"
      ]
     },
     "metadata": {},
     "output_type": "display_data"
    }
   ],
   "source": [
    "from IPython.display import Image, display\n",
    "from langgraph.graph import START, END, StateGraph\n",
    "from langgraph.checkpoint.memory import MemorySaver\n",
    "from langchain_core.messages import SystemMessage, AIMessage, HumanMessage\n",
    "\n",
    "analyst_instructions=\"\"\"You are tasked with creating a set of AI analyst personas. Follow these instructions carefully:\n",
    "\n",
    "1. First, review the research topics:\n",
    "{topic}\n",
    "2. Examine any editorial feedback that has been optionally provided to guide creation of the analysts:\n",
    "{human_analyst_feedback}\n",
    "3. Determine the most iny=terestion themes based upon documents and / or feedback above.\n",
    "4. Pick the top {max_analysts} themes.\n",
    "5. Assign one analyst to each theme.\"\"\"\n",
    "\n",
    "def create_analysts(state: GenerateAnalystsState):\n",
    "    \"\"\"Create analysts\"\"\"\n",
    "    topic=state['topic']\n",
    "    max_analysts=state['max_analysts']\n",
    "    human_analyst_feedback=state.get('human_analyst_feedback','')\n",
    "\n",
    "    structured_llm = llm.with_structured_output(Perspectives)\n",
    "\n",
    "    system_message = analyst_instructions.format(topic=topic, human_analyst_feedback=human_analyst_feedback, max_analysts=max_analysts)\n",
    "\n",
    "    analysts = structured_llm.invoke([SystemMessage(content=system_message)] + [HumanMessage(content=\"Generate the set of analysts.\")])\n",
    "\n",
    "    return {\"analysts\": analysts.analysts}\n",
    "\n",
    "def human_feedback(state: GenerateAnalystsState):\n",
    "    \"\"\"No-op node that should be interrupted on \"\"\"\n",
    "    pass\n",
    "\n",
    "def should_continue(state: GenerateAnalystsState):\n",
    "    \"\"\"Return the next node to execute \"\"\"\n",
    "\n",
    "    human_analyst_feedback=state.get(\"human_analyst_feedback\",None)\n",
    "    if human_analyst_feedback:\n",
    "        return \"create_analysts\"\n",
    "    \n",
    "    return END\n",
    "\n",
    "builder = StateGraph(GenerateAnalystsState)\n",
    "builder.add_node(\"create_analysts\", create_analysts)\n",
    "builder.add_node(\"human_feedback\", human_feedback)\n",
    "builder.add_edge(START, \"create_analysts\")\n",
    "builder.add_edge(\"create_analysts\", \"human_feedback\")\n",
    "builder.add_conditional_edges(\"human_feedback\", should_continue,[\"create_analysts\", END])\n",
    "\n",
    "memory = MemorySaver()\n",
    "graph = builder.compile(interrupt_before=['human_feedback'], checkpointer=memory)\n",
    "\n",
    "display(Image(graph.get_graph(xray=1).draw_mermaid_png()))"
   ]
  },
  {
   "cell_type": "code",
   "execution_count": 16,
   "id": "5aa7c279",
   "metadata": {},
   "outputs": [
    {
     "name": "stdout",
     "output_type": "stream",
     "text": [
      "Name: Dr. Anya Sharma\n",
      "Affiliation: AI Research Institute\n",
      "Role: AI Research Scientist\n",
      "Description: Focuses on the technical advantages of LangGraph, such as its ability to manage complex conversational flows and improve agent reliability. They are motivated by the desire to advance the state of AI research and see LangGraph as a promising tool.\n",
      "--------------------------------------------------\n",
      "Name: Kenji Tanaka\n",
      "Affiliation: Large Language Model (LLM) Development Company\n",
      "Role: Lead AI Engineer\n",
      "Description: Concerned with the practical applications of LangGraph for building more robust and scalable LLM-powered agents. Their motive is to improve the efficiency and effectiveness of their agents for commercial use cases.\n",
      "--------------------------------------------------\n",
      "Name: Dr. Maria Rodriguez\n",
      "Affiliation: AI Ethics and Society Institute\n",
      "Role: AI Ethics Researcher\n",
      "Description: Interested in the ethical implications of using LangGraph, particularly its potential to create more complex and opaque AI systems. They are motivated by the need to ensure that AI is developed and used responsibly.\n",
      "--------------------------------------------------\n",
      "Name: Dr. Anya Sharma\n",
      "Affiliation: AI Research Lab\n",
      "Role: AI Research Scientist\n",
      "Description: Focuses on the technical advantages of LangGraph, such as its ability to create more robust and reliable agent workflows compared to traditional methods. They highlight the benefits of state management and the ability to handle complex, multi-agent interactions effectively.\n",
      "--------------------------------------------------\n",
      "Name: Mr. Ben Carter\n",
      "Affiliation: Enterprise Solutions Firm\n",
      "Role: Lead Solutions Architect\n",
      "Description: Concerned with the practical applications and ROI of LangGraph. They focus on how it can be used to streamline business processes, automate complex tasks, and improve decision-making. They emphasize the importance of scalability, security, and integration with existing enterprise systems.\n",
      "--------------------------------------------------\n",
      "Name: Professor Emily Chen\n",
      "Affiliation: AI Ethics Institute\n",
      "Role: AI Ethics Researcher\n",
      "Description: Prioritizes the ethical implications of using LangGraph, particularly its potential impact on job displacement and the need for responsible AI development. They advocate for transparency, fairness, and accountability in the design and deployment of LangGraph-based systems.\n",
      "--------------------------------------------------\n"
     ]
    }
   ],
   "source": [
    "max_analysts = 3\n",
    "topic = ''' The benefits of adopting LangGraph as an agent framework'''\n",
    "thread = {\"configurable\": {\"thread_id\": \"1\"}}\n",
    "\n",
    "for event in graph.stream({\"topic\":topic, \"max_analysts\":max_analysts,}, thread, stream_mode=\"values\"):\n",
    "    analysts = event.get('analysts','')\n",
    "    if analysts:\n",
    "        for analyst in analysts:\n",
    "            print(f\"Name: {analyst.name}\")\n",
    "            print(f\"Affiliation: {analyst.affiliation}\")\n",
    "            print(f\"Role: {analyst.role}\")\n",
    "            print(f\"Description: {analyst.description}\")\n",
    "            print(\"-\"*50)\n"
   ]
  },
  {
   "cell_type": "code",
   "execution_count": 17,
   "id": "0412c152",
   "metadata": {},
   "outputs": [
    {
     "data": {
      "text/plain": [
       "('human_feedback',)"
      ]
     },
     "execution_count": 17,
     "metadata": {},
     "output_type": "execute_result"
    }
   ],
   "source": [
    "state = graph.get_state(thread)\n",
    "state.next"
   ]
  },
  {
   "cell_type": "code",
   "execution_count": 18,
   "id": "bf1f1e00",
   "metadata": {},
   "outputs": [
    {
     "data": {
      "text/plain": [
       "{'configurable': {'thread_id': '1',\n",
       "  'checkpoint_ns': '',\n",
       "  'checkpoint_id': '1f05e3de-1e45-61ed-8007-7bf96c227eff'}}"
      ]
     },
     "execution_count": 18,
     "metadata": {},
     "output_type": "execute_result"
    }
   ],
   "source": [
    "graph.update_state(thread,{\"human_analyst_feedback\":\n",
    "                           \"Add in someome from a startup to add an entrepreneur perspective.\"}, as_node=\"human_feedback\")"
   ]
  },
  {
   "cell_type": "code",
   "execution_count": 19,
   "id": "f3ef4a39",
   "metadata": {},
   "outputs": [
    {
     "name": "stdout",
     "output_type": "stream",
     "text": [
      "Name: Dr. Anya Sharma\n",
      "Affiliation: AI Research Lab\n",
      "Role: AI Research Scientist\n",
      "Description: Focuses on the technical advantages of LangGraph, such as its ability to create more robust and reliable agent workflows compared to traditional methods. They highlight the benefits of state management and the ability to handle complex, multi-agent interactions effectively.\n",
      "--------------------------------------------------\n",
      "Name: Mr. Ben Carter\n",
      "Affiliation: Enterprise Solutions Firm\n",
      "Role: Lead Solutions Architect\n",
      "Description: Concerned with the practical applications and ROI of LangGraph. They focus on how it can be used to streamline business processes, automate complex tasks, and improve decision-making. They emphasize the importance of scalability, security, and integration with existing enterprise systems.\n",
      "--------------------------------------------------\n",
      "Name: Professor Emily Chen\n",
      "Affiliation: AI Ethics Institute\n",
      "Role: AI Ethics Researcher\n",
      "Description: Prioritizes the ethical implications of using LangGraph, particularly its potential impact on job displacement and the need for responsible AI development. They advocate for transparency, fairness, and accountability in the design and deployment of LangGraph-based systems.\n",
      "--------------------------------------------------\n",
      "Name: Alice Johnson\n",
      "Affiliation: Large Enterprise\n",
      "Role: Lead AI Architect\n",
      "Description: Focuses on scalability and integration challenges when adopting LangGraph. Concerned with ensuring seamless integration with existing systems and achieving measurable improvements in agent performance across large teams.\n",
      "--------------------------------------------------\n",
      "Name: Bob Williams\n",
      "Affiliation: AI Startup\n",
      "Role: CTO\n",
      "Description: Driven by the need for rapid prototyping and deployment of AI agents using LangGraph. Highly motivated by its flexibility and ability to quickly iterate on agent designs to achieve product-market fit.\n",
      "--------------------------------------------------\n",
      "Name: Dr. Carol Davis\n",
      "Affiliation: Research Institution\n",
      "Role: Principal Investigator\n",
      "Description: Interested in LangGraph's potential for advancing research in AI agent orchestration and complex reasoning. Focuses on its ability to model and analyze agent interactions, and its impact on emergent behavior in multi-agent systems.\n",
      "--------------------------------------------------\n"
     ]
    }
   ],
   "source": [
    "for event in graph.stream(None, thread, stream_mode=\"values\"):\n",
    "    analysts = event.get('analysts','')\n",
    "    if analysts:\n",
    "        for analyst in analysts:\n",
    "            print(f\"Name: {analyst.name}\")\n",
    "            print(f\"Affiliation: {analyst.affiliation}\")\n",
    "            print(f\"Role: {analyst.role}\")\n",
    "            print(f\"Description: {analyst.description}\")\n",
    "            print(\"-\"*50)\n"
   ]
  },
  {
   "cell_type": "code",
   "execution_count": null,
   "id": "d9604424",
   "metadata": {},
   "outputs": [],
   "source": []
  }
 ],
 "metadata": {
  "kernelspec": {
   "display_name": "venv",
   "language": "python",
   "name": "python3"
  },
  "language_info": {
   "codemirror_mode": {
    "name": "ipython",
    "version": 3
   },
   "file_extension": ".py",
   "mimetype": "text/x-python",
   "name": "python",
   "nbconvert_exporter": "python",
   "pygments_lexer": "ipython3",
   "version": "3.12.4"
  }
 },
 "nbformat": 4,
 "nbformat_minor": 5
}
